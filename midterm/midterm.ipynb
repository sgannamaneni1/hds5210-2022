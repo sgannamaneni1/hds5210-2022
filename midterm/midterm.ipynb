{
 "cells": [
  {
   "cell_type": "markdown",
   "metadata": {},
   "source": [
    "# HDS5210-2022 Fall Midterm\n",
    "\n",
    "In the midterm exercise, you're going to use all the programming and data management skills you've developed so far to build a pricing calculator that will calculate how much money should be reimbursed for the visits in a CSV file. To do this, you will need to get allowed amounts (aka rates) from a JSON file, apply some special rules, and then calculate various totals by hospital or by month.\n",
    "\n",
    "Each step of the midterm will build up to form your final solution. Along the way, I've provided plenty of test cases to make sure you're getting each step correct.\n",
    "\n",
    "All functions require docstrings with a description and at least one test case.\n",
    "\n",
    "The midterm is due Monday, October 24th at 11:59 PM CST.\n",
    "\n",
    "---"
   ]
  },
  {
   "cell_type": "markdown",
   "metadata": {},
   "source": [
    "## Step 1: Average Rate\n",
    "\n",
    "With the `/data/negotiated_rates.json` file as input for your first function, read all the `allowed_amount` attributes and calculate an average allowed amount over all rates in the file.\n",
    "\n",
    "Your function should be named **average_rate()**, take the file's name as it's input parameter, and return a float as the result.\n",
    "\n",
    "**ROUND YOUR ANSWER TO 2 DECIMAL PLACES**"
   ]
  },
  {
   "cell_type": "code",
   "execution_count": 305,
   "metadata": {},
   "outputs": [],
   "source": [
    "import json\n",
    "def average_rate(file):\n",
    "    data_file= open(file,\"r\")\n",
    "    data=json.load(data_file)\n",
    "    data_file.close\n",
    "    count = 0\n",
    "    count1 = 0\n",
    "    x = 0\n",
    "    for i in data[\"out_of_network\"]:\n",
    "        for j in i[\"allowed_amounts\"]:\n",
    "            res = j[\"payments\"][\"allowed_amount\"]\n",
    "            count1 += 1\n",
    "            x = x + res\n",
    "    y = x/count1\n",
    "    \n",
    "    return round(y,2)"
   ]
  },
  {
   "cell_type": "code",
   "execution_count": 306,
   "metadata": {},
   "outputs": [],
   "source": [
    "assert(average_rate('/data/negotiated_rates.json') == 38.67)"
   ]
  },
  {
   "cell_type": "markdown",
   "metadata": {},
   "source": [
    "---\n",
    "\n",
    "## Step 2: Rate for a Billing Code / Service Code Combination\n",
    "\n",
    "For the next step, we need to be able to look up the allowed amount for any given billing code / service code combination.\n",
    "\n",
    "In this data, the billing code represents the service or procedure that was provided. The service code represents the type of site where the service was provided.\n",
    "\n",
    "Your function should be named **get_rate()** and take three parameters: the JSON file name, the billing code, and the service code. If your code can't find that combination in the file, it should return None."
   ]
  },
  {
   "cell_type": "code",
   "execution_count": 307,
   "metadata": {},
   "outputs": [],
   "source": [
    "import json\n",
    "\n",
    "def get_rate(file, billing_code, service_code):\n",
    "    data_file= open(file,\"r\")\n",
    "    data=json.load(data_file)\n",
    "    data_file.close\n",
    "    count = 0\n",
    "    count1 = 0\n",
    "    x = 0\n",
    "    for i in data[\"out_of_network\"]:\n",
    "        if i[\"billing_code\"] == billing_code:\n",
    "            for j in i[\"allowed_amounts\"]:\n",
    "                if j[\"service_code\"]==service_code:\n",
    "                    res = j[\"payments\"][\"allowed_amount\"]  \n",
    "    \n",
    "    return round(res,2)"
   ]
  },
  {
   "cell_type": "code",
   "execution_count": 308,
   "metadata": {},
   "outputs": [],
   "source": [
    "assert (get_rate('/data/negotiated_rates.json','G0283','11') == 8.78)"
   ]
  },
  {
   "cell_type": "code",
   "execution_count": 309,
   "metadata": {},
   "outputs": [],
   "source": [
    "assert (get_rate('/data/negotiated_rates.json','97140','11') == 20.03)"
   ]
  },
  {
   "cell_type": "code",
   "execution_count": 310,
   "metadata": {},
   "outputs": [],
   "source": [
    "assert (get_rate('/data/negotiated_rates.json','97110','12') == 26.62)"
   ]
  },
  {
   "cell_type": "markdown",
   "metadata": {},
   "source": [
    "---\n",
    "\n",
    "## Part 3: Special Rules for Rates\n",
    "\n",
    "There are some special rules for adjusting rates depending on a patient's age and the day of week.  (These are made up. Not from the real world.) In the next part of the midterm, you'll need to create a function that applies these extra rules to a rate and return the adjusted value.\n",
    "\n",
    "1. If the day of week is Monday, charge only 75% of the allowed amount.\n",
    "2. If the patient's age is 65 or higher, charge only 50% of the allowed amount.\n",
    "3. If's both Monday and the patient's age is 65 or higher, charge only 50% of the allowed amount.\n",
    "4. If neither of these conditions are true, charge the whole amount.\n",
    "\n",
    "Your function should be named **get_adjusted_rate()** and take five parameters: file name, billing code, service code, patient age, and visit date.  Your function should return the adjusted rate (based on the rules above) or None if the rate couldn't be found in the file.\n",
    "\n",
    "Note that your function will take a date in the form `%Y-%m-%d` ([see datetime.strptime()](https://docs.python.org/3/library/datetime.html#datetime.datetime.strptime)) and will need to calculate the [day of week](https://docs.python.org/3/library/datetime.html#datetime.date.weekday).\n",
    "\n",
    "**ROUND YOUR ANSWER TO 2 DECIMAL PLACES**"
   ]
  },
  {
   "cell_type": "code",
   "execution_count": 311,
   "metadata": {},
   "outputs": [],
   "source": [
    "from datetime import datetime\n",
    "\n",
    "def get_adjusted_rate(file, billing_code, service_code, patient_age, visit_date):\n",
    "    a=get_rate(file, billing_code, service_code)\n",
    "    date=datetime.strptime(visit_date, \"%Y-%m-%d\")\n",
    "    week=date.strftime('%A')\n",
    "    try:\n",
    "        if week=='Monday' and patient_age>=65:\n",
    "            a=0.5*a\n",
    "            return round(a,2)\n",
    "        elif week=='Monday':\n",
    "            a=0.75*a\n",
    "            return round(a,2)\n",
    "        elif patient_age>=65:\n",
    "            a=0.5*a\n",
    "            return round(a,2)\n",
    "        else:\n",
    "            return round(a,2)\n",
    "    except:\n",
    "        return None"
   ]
  },
  {
   "cell_type": "code",
   "execution_count": 312,
   "metadata": {},
   "outputs": [],
   "source": [
    "assert (get_adjusted_rate('/data/negotiated_rates.json','G0283','11',22,'2022-01-07') == 8.78)\n",
    "assert (get_adjusted_rate('/data/negotiated_rates.json','G0283','11',22,'2022-01-03') == 6.58)\n",
    "assert (get_adjusted_rate('/data/negotiated_rates.json','G0283','11',76,'2022-01-03') == 4.39)\n",
    "assert (get_adjusted_rate('/data/negotiated_rates.json','G0283','11',76,'2022-01-08') == 4.39)"
   ]
  },
  {
   "cell_type": "markdown",
   "metadata": {},
   "source": [
    "---\n",
    "\n",
    "## Step 4: Calculate total payments for a list of visits\n",
    "\n",
    "Last step, we're going to put your get_adjusted_rate() function to work on a list of visits from a few hospitals in the St. Louis region.\n",
    "\n",
    "Your last function, **summarize_reimbursement()** needs to read an encounter file and the negotiated rates file, compute an adjusted rate for each encounter (row) in the input file, and return two dictionaries of information:\n",
    "1. Total expected reimbursement by month\n",
    "2. Total expected reimbursement by hospital\n",
    "\n",
    "Your should be able to run your function as `by_month, by_hospital = summarize_reimbursement(visits, negotiated_rates)` and have the two answers below:\n",
    "\n",
    "**by_month**\n",
    "```json\n",
    "{\n",
    "    '2021-05': 192.38,\n",
    "    '2021-03': 378.72,\n",
    "    '2021-07': 277.67,\n",
    "    '2021-06': 236.53,\n",
    "    '2021-11': 229.7,\n",
    "    '2021-10': 234.52,\n",
    "    '2021-12': 297.87,\n",
    "    '2021-04': 337.7,\n",
    "    '2021-09': 160.4,\n",
    "    '2021-01': 111.91,\n",
    "    '2021-02': 158.55,\n",
    "    '2021-08': 152.28\n",
    "}\n",
    "```\n",
    "\n",
    "**by_hospital**\n",
    "```json\n",
    "{\n",
    "    'Missouri Baptist': 514.18,\n",
    "    'SSM DePaul': 460.02,\n",
    "    'SLU Hospital': 409.67,\n",
    "    'Barnes Jewish': 485.7,\n",
    "    'Mercy Springfield': 518.59,\n",
    "    'Mercy St. Louis': 380.07\n",
    "}\n",
    "```\n",
    "\n",
    "**Round your totals to 2 decimal places**\n",
    "\n",
    "**If rates are not found, just ignore them**"
   ]
  },
  {
   "cell_type": "code",
   "execution_count": 313,
   "metadata": {},
   "outputs": [],
   "source": [
    "import json\n",
    "import csv\n",
    "from datetime import datetime\n",
    "   "
   ]
  },
  {
   "cell_type": "code",
   "execution_count": 304,
   "metadata": {},
   "outputs": [
    {
     "ename": "UnboundLocalError",
     "evalue": "local variable 'res' referenced before assignment",
     "output_type": "error",
     "traceback": [
      "\u001b[0;31m---------------------------------------------------------------------------\u001b[0m",
      "\u001b[0;31mUnboundLocalError\u001b[0m                         Traceback (most recent call last)",
      "\u001b[0;32m<ipython-input-304-1cea075ff0e1>\u001b[0m in \u001b[0;36m<module>\u001b[0;34m\u001b[0m\n\u001b[0;32m----> 1\u001b[0;31m \u001b[0msummarize_reimbursement\u001b[0m\u001b[0;34m(\u001b[0m\u001b[0;34m'/data/visits.csv'\u001b[0m\u001b[0;34m,\u001b[0m\u001b[0;34m'/data/negotiated_rates.json'\u001b[0m\u001b[0;34m)\u001b[0m\u001b[0;34m\u001b[0m\u001b[0;34m\u001b[0m\u001b[0m\n\u001b[0m",
      "\u001b[0;32m<ipython-input-282-0b5e8649b19f>\u001b[0m in \u001b[0;36msummarize_reimbursement\u001b[0;34m(visits, negotiated_rates)\u001b[0m\n\u001b[1;32m     16\u001b[0m             \u001b[0mmonth\u001b[0m\u001b[0;34m=\u001b[0m\u001b[0mdate\u001b[0m\u001b[0;34m.\u001b[0m\u001b[0mstrftime\u001b[0m\u001b[0;34m(\u001b[0m\u001b[0;34m'%Y-%m'\u001b[0m\u001b[0;34m)\u001b[0m\u001b[0;34m\u001b[0m\u001b[0;34m\u001b[0m\u001b[0m\n\u001b[1;32m     17\u001b[0m             rate=get_adjusted_rate(\n\u001b[0;32m---> 18\u001b[0;31m                 \u001b[0mnegotiated_rates\u001b[0m\u001b[0;34m,\u001b[0m \u001b[0mb\u001b[0m\u001b[0;34m,\u001b[0m \u001b[0ms\u001b[0m\u001b[0;34m,\u001b[0m \u001b[0mint\u001b[0m\u001b[0;34m(\u001b[0m\u001b[0mpa\u001b[0m\u001b[0;34m)\u001b[0m\u001b[0;34m,\u001b[0m \u001b[0mvd\u001b[0m\u001b[0;34m\u001b[0m\u001b[0;34m\u001b[0m\u001b[0m\n\u001b[0m\u001b[1;32m     19\u001b[0m             )\n\u001b[1;32m     20\u001b[0m             \u001b[0;32mif\u001b[0m \u001b[0mmonth\u001b[0m \u001b[0;32min\u001b[0m \u001b[0mby_month\u001b[0m\u001b[0;34m:\u001b[0m\u001b[0;34m\u001b[0m\u001b[0;34m\u001b[0m\u001b[0m\n",
      "\u001b[0;32m<ipython-input-301-c7e123017ede>\u001b[0m in \u001b[0;36mget_adjusted_rate\u001b[0;34m(file, billing_code, service_code, patient_age, visit_date)\u001b[0m\n\u001b[1;32m      2\u001b[0m \u001b[0;34m\u001b[0m\u001b[0m\n\u001b[1;32m      3\u001b[0m \u001b[0;32mdef\u001b[0m \u001b[0mget_adjusted_rate\u001b[0m\u001b[0;34m(\u001b[0m\u001b[0mfile\u001b[0m\u001b[0;34m,\u001b[0m \u001b[0mbilling_code\u001b[0m\u001b[0;34m,\u001b[0m \u001b[0mservice_code\u001b[0m\u001b[0;34m,\u001b[0m \u001b[0mpatient_age\u001b[0m\u001b[0;34m,\u001b[0m \u001b[0mvisit_date\u001b[0m\u001b[0;34m)\u001b[0m\u001b[0;34m:\u001b[0m\u001b[0;34m\u001b[0m\u001b[0;34m\u001b[0m\u001b[0m\n\u001b[0;32m----> 4\u001b[0;31m     \u001b[0ma\u001b[0m\u001b[0;34m=\u001b[0m\u001b[0mget_rate\u001b[0m\u001b[0;34m(\u001b[0m\u001b[0mfile\u001b[0m\u001b[0;34m,\u001b[0m \u001b[0mbilling_code\u001b[0m\u001b[0;34m,\u001b[0m \u001b[0mservice_code\u001b[0m\u001b[0;34m)\u001b[0m\u001b[0;34m\u001b[0m\u001b[0;34m\u001b[0m\u001b[0m\n\u001b[0m\u001b[1;32m      5\u001b[0m     \u001b[0mdate\u001b[0m\u001b[0;34m=\u001b[0m\u001b[0mdatetime\u001b[0m\u001b[0;34m.\u001b[0m\u001b[0mstrptime\u001b[0m\u001b[0;34m(\u001b[0m\u001b[0mvisit_date\u001b[0m\u001b[0;34m,\u001b[0m \u001b[0;34m\"%Y-%m-%d\"\u001b[0m\u001b[0;34m)\u001b[0m\u001b[0;34m\u001b[0m\u001b[0;34m\u001b[0m\u001b[0m\n\u001b[1;32m      6\u001b[0m     \u001b[0mweek\u001b[0m\u001b[0;34m=\u001b[0m\u001b[0mdate\u001b[0m\u001b[0;34m.\u001b[0m\u001b[0mstrftime\u001b[0m\u001b[0;34m(\u001b[0m\u001b[0;34m'%A'\u001b[0m\u001b[0;34m)\u001b[0m\u001b[0;34m\u001b[0m\u001b[0;34m\u001b[0m\u001b[0m\n",
      "\u001b[0;32m<ipython-input-297-c45b4339cfee>\u001b[0m in \u001b[0;36mget_rate\u001b[0;34m(file, billing_code, service_code)\u001b[0m\n\u001b[1;32m     14\u001b[0m                     \u001b[0mres\u001b[0m \u001b[0;34m=\u001b[0m \u001b[0mj\u001b[0m\u001b[0;34m[\u001b[0m\u001b[0;34m\"payments\"\u001b[0m\u001b[0;34m]\u001b[0m\u001b[0;34m[\u001b[0m\u001b[0;34m\"allowed_amount\"\u001b[0m\u001b[0;34m]\u001b[0m\u001b[0;34m\u001b[0m\u001b[0;34m\u001b[0m\u001b[0m\n\u001b[1;32m     15\u001b[0m \u001b[0;34m\u001b[0m\u001b[0m\n\u001b[0;32m---> 16\u001b[0;31m     \u001b[0;32mreturn\u001b[0m \u001b[0mround\u001b[0m\u001b[0;34m(\u001b[0m\u001b[0mres\u001b[0m\u001b[0;34m,\u001b[0m\u001b[0;36m2\u001b[0m\u001b[0;34m)\u001b[0m\u001b[0;34m\u001b[0m\u001b[0;34m\u001b[0m\u001b[0m\n\u001b[0m",
      "\u001b[0;31mUnboundLocalError\u001b[0m: local variable 'res' referenced before assignment"
     ]
    }
   ],
   "source": [
    "summarize_reimbursement('/data/visits.csv','/data/negotiated_rates.json')"
   ]
  },
  {
   "cell_type": "code",
   "execution_count": 294,
   "metadata": {},
   "outputs": [
    {
     "ename": "UnboundLocalError",
     "evalue": "local variable 'res' referenced before assignment",
     "output_type": "error",
     "traceback": [
      "\u001b[0;31m---------------------------------------------------------------------------\u001b[0m",
      "\u001b[0;31mUnboundLocalError\u001b[0m                         Traceback (most recent call last)",
      "\u001b[0;32m<ipython-input-294-6e0ff7d89855>\u001b[0m in \u001b[0;36m<module>\u001b[0;34m\u001b[0m\n\u001b[0;32m----> 1\u001b[0;31m \u001b[0;32massert\u001b[0m \u001b[0;34m(\u001b[0m\u001b[0msummarize_reimbursement\u001b[0m\u001b[0;34m(\u001b[0m\u001b[0;34m'/data/visits.csv'\u001b[0m\u001b[0;34m,\u001b[0m\u001b[0;34m'/data/negotiated_rates.json'\u001b[0m\u001b[0;34m)\u001b[0m\u001b[0;34m[\u001b[0m\u001b[0;36m0\u001b[0m\u001b[0;34m]\u001b[0m\u001b[0;34m[\u001b[0m\u001b[0;34m'2021-07'\u001b[0m\u001b[0;34m]\u001b[0m \u001b[0;34m==\u001b[0m \u001b[0;36m277.67\u001b[0m\u001b[0;34m)\u001b[0m\u001b[0;34m\u001b[0m\u001b[0;34m\u001b[0m\u001b[0m\n\u001b[0m\u001b[1;32m      2\u001b[0m \u001b[0;32massert\u001b[0m \u001b[0;34m(\u001b[0m\u001b[0msummarize_reimbursement\u001b[0m\u001b[0;34m(\u001b[0m\u001b[0;34m'/data/visits.csv'\u001b[0m\u001b[0;34m,\u001b[0m\u001b[0;34m'/data/negotiated_rates.json'\u001b[0m\u001b[0;34m)\u001b[0m\u001b[0;34m[\u001b[0m\u001b[0;36m0\u001b[0m\u001b[0;34m]\u001b[0m\u001b[0;34m[\u001b[0m\u001b[0;34m'2021-03'\u001b[0m\u001b[0;34m]\u001b[0m \u001b[0;34m==\u001b[0m \u001b[0;36m378.72\u001b[0m\u001b[0;34m)\u001b[0m\u001b[0;34m\u001b[0m\u001b[0;34m\u001b[0m\u001b[0m\n\u001b[1;32m      3\u001b[0m \u001b[0;32massert\u001b[0m \u001b[0;34m(\u001b[0m\u001b[0msummarize_reimbursement\u001b[0m\u001b[0;34m(\u001b[0m\u001b[0;34m'/data/visits.csv'\u001b[0m\u001b[0;34m,\u001b[0m\u001b[0;34m'/data/negotiated_rates.json'\u001b[0m\u001b[0;34m)\u001b[0m\u001b[0;34m[\u001b[0m\u001b[0;36m1\u001b[0m\u001b[0;34m]\u001b[0m\u001b[0;34m[\u001b[0m\u001b[0;34m'Mercy St. Louis'\u001b[0m\u001b[0;34m]\u001b[0m \u001b[0;34m==\u001b[0m \u001b[0;36m380.07\u001b[0m\u001b[0;34m)\u001b[0m\u001b[0;34m\u001b[0m\u001b[0;34m\u001b[0m\u001b[0m\n\u001b[1;32m      4\u001b[0m \u001b[0;32massert\u001b[0m \u001b[0;34m(\u001b[0m\u001b[0msummarize_reimbursement\u001b[0m\u001b[0;34m(\u001b[0m\u001b[0;34m'/data/visits.csv'\u001b[0m\u001b[0;34m,\u001b[0m\u001b[0;34m'/data/negotiated_rates.json'\u001b[0m\u001b[0;34m)\u001b[0m\u001b[0;34m[\u001b[0m\u001b[0;36m1\u001b[0m\u001b[0;34m]\u001b[0m\u001b[0;34m[\u001b[0m\u001b[0;34m'Mercy Springfield'\u001b[0m\u001b[0;34m]\u001b[0m \u001b[0;34m==\u001b[0m \u001b[0;36m518.59\u001b[0m\u001b[0;34m)\u001b[0m\u001b[0;34m\u001b[0m\u001b[0;34m\u001b[0m\u001b[0m\n",
      "\u001b[0;32m<ipython-input-282-0b5e8649b19f>\u001b[0m in \u001b[0;36msummarize_reimbursement\u001b[0;34m(visits, negotiated_rates)\u001b[0m\n\u001b[1;32m     16\u001b[0m             \u001b[0mmonth\u001b[0m\u001b[0;34m=\u001b[0m\u001b[0mdate\u001b[0m\u001b[0;34m.\u001b[0m\u001b[0mstrftime\u001b[0m\u001b[0;34m(\u001b[0m\u001b[0;34m'%Y-%m'\u001b[0m\u001b[0;34m)\u001b[0m\u001b[0;34m\u001b[0m\u001b[0;34m\u001b[0m\u001b[0m\n\u001b[1;32m     17\u001b[0m             rate=get_adjusted_rate(\n\u001b[0;32m---> 18\u001b[0;31m                 \u001b[0mnegotiated_rates\u001b[0m\u001b[0;34m,\u001b[0m \u001b[0mb\u001b[0m\u001b[0;34m,\u001b[0m \u001b[0ms\u001b[0m\u001b[0;34m,\u001b[0m \u001b[0mint\u001b[0m\u001b[0;34m(\u001b[0m\u001b[0mpa\u001b[0m\u001b[0;34m)\u001b[0m\u001b[0;34m,\u001b[0m \u001b[0mvd\u001b[0m\u001b[0;34m\u001b[0m\u001b[0;34m\u001b[0m\u001b[0m\n\u001b[0m\u001b[1;32m     19\u001b[0m             )\n\u001b[1;32m     20\u001b[0m             \u001b[0;32mif\u001b[0m \u001b[0mmonth\u001b[0m \u001b[0;32min\u001b[0m \u001b[0mby_month\u001b[0m\u001b[0;34m:\u001b[0m\u001b[0;34m\u001b[0m\u001b[0;34m\u001b[0m\u001b[0m\n",
      "\u001b[0;32m<ipython-input-290-c7e123017ede>\u001b[0m in \u001b[0;36mget_adjusted_rate\u001b[0;34m(file, billing_code, service_code, patient_age, visit_date)\u001b[0m\n\u001b[1;32m      2\u001b[0m \u001b[0;34m\u001b[0m\u001b[0m\n\u001b[1;32m      3\u001b[0m \u001b[0;32mdef\u001b[0m \u001b[0mget_adjusted_rate\u001b[0m\u001b[0;34m(\u001b[0m\u001b[0mfile\u001b[0m\u001b[0;34m,\u001b[0m \u001b[0mbilling_code\u001b[0m\u001b[0;34m,\u001b[0m \u001b[0mservice_code\u001b[0m\u001b[0;34m,\u001b[0m \u001b[0mpatient_age\u001b[0m\u001b[0;34m,\u001b[0m \u001b[0mvisit_date\u001b[0m\u001b[0;34m)\u001b[0m\u001b[0;34m:\u001b[0m\u001b[0;34m\u001b[0m\u001b[0;34m\u001b[0m\u001b[0m\n\u001b[0;32m----> 4\u001b[0;31m     \u001b[0ma\u001b[0m\u001b[0;34m=\u001b[0m\u001b[0mget_rate\u001b[0m\u001b[0;34m(\u001b[0m\u001b[0mfile\u001b[0m\u001b[0;34m,\u001b[0m \u001b[0mbilling_code\u001b[0m\u001b[0;34m,\u001b[0m \u001b[0mservice_code\u001b[0m\u001b[0;34m)\u001b[0m\u001b[0;34m\u001b[0m\u001b[0;34m\u001b[0m\u001b[0m\n\u001b[0m\u001b[1;32m      5\u001b[0m     \u001b[0mdate\u001b[0m\u001b[0;34m=\u001b[0m\u001b[0mdatetime\u001b[0m\u001b[0;34m.\u001b[0m\u001b[0mstrptime\u001b[0m\u001b[0;34m(\u001b[0m\u001b[0mvisit_date\u001b[0m\u001b[0;34m,\u001b[0m \u001b[0;34m\"%Y-%m-%d\"\u001b[0m\u001b[0;34m)\u001b[0m\u001b[0;34m\u001b[0m\u001b[0;34m\u001b[0m\u001b[0m\n\u001b[1;32m      6\u001b[0m     \u001b[0mweek\u001b[0m\u001b[0;34m=\u001b[0m\u001b[0mdate\u001b[0m\u001b[0;34m.\u001b[0m\u001b[0mstrftime\u001b[0m\u001b[0;34m(\u001b[0m\u001b[0;34m'%A'\u001b[0m\u001b[0;34m)\u001b[0m\u001b[0;34m\u001b[0m\u001b[0;34m\u001b[0m\u001b[0m\n",
      "\u001b[0;32m<ipython-input-286-c45b4339cfee>\u001b[0m in \u001b[0;36mget_rate\u001b[0;34m(file, billing_code, service_code)\u001b[0m\n\u001b[1;32m     14\u001b[0m                     \u001b[0mres\u001b[0m \u001b[0;34m=\u001b[0m \u001b[0mj\u001b[0m\u001b[0;34m[\u001b[0m\u001b[0;34m\"payments\"\u001b[0m\u001b[0;34m]\u001b[0m\u001b[0;34m[\u001b[0m\u001b[0;34m\"allowed_amount\"\u001b[0m\u001b[0;34m]\u001b[0m\u001b[0;34m\u001b[0m\u001b[0;34m\u001b[0m\u001b[0m\n\u001b[1;32m     15\u001b[0m \u001b[0;34m\u001b[0m\u001b[0m\n\u001b[0;32m---> 16\u001b[0;31m     \u001b[0;32mreturn\u001b[0m \u001b[0mround\u001b[0m\u001b[0;34m(\u001b[0m\u001b[0mres\u001b[0m\u001b[0;34m,\u001b[0m\u001b[0;36m2\u001b[0m\u001b[0;34m)\u001b[0m\u001b[0;34m\u001b[0m\u001b[0;34m\u001b[0m\u001b[0m\n\u001b[0m",
      "\u001b[0;31mUnboundLocalError\u001b[0m: local variable 'res' referenced before assignment"
     ]
    }
   ],
   "source": [
    "assert (summarize_reimbursement('/data/visits.csv','/data/negotiated_rates.json')[0]['2021-07'] == 277.67)\n",
    "assert (summarize_reimbursement('/data/visits.csv','/data/negotiated_rates.json')[0]['2021-03'] == 378.72)\n",
    "assert (summarize_reimbursement('/data/visits.csv','/data/negotiated_rates.json')[1]['Mercy St. Louis'] == 380.07)\n",
    "assert (summarize_reimbursement('/data/visits.csv','/data/negotiated_rates.json')[1]['Mercy Springfield'] == 518.59)"
   ]
  },
  {
   "cell_type": "code",
   "execution_count": null,
   "metadata": {},
   "outputs": [],
   "source": []
  }
 ],
 "metadata": {
  "kernelspec": {
   "display_name": "Python 3",
   "language": "python",
   "name": "python3"
  },
  "language_info": {
   "codemirror_mode": {
    "name": "ipython",
    "version": 3
   },
   "file_extension": ".py",
   "mimetype": "text/x-python",
   "name": "python",
   "nbconvert_exporter": "python",
   "pygments_lexer": "ipython3",
   "version": "3.6.7"
  }
 },
 "nbformat": 4,
 "nbformat_minor": 4
}
