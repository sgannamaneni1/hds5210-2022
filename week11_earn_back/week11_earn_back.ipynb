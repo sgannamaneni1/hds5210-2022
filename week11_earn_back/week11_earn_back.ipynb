{
 "cells": [
  {
   "cell_type": "markdown",
   "metadata": {},
   "source": [
    "# Week 11 - Earn-Back Points Assignment #1\n",
    "\n",
    "These exercises are entirely optional, but they provide good practice. And you can use them to earn extra points toward your semester grade.  Each problem in this notebook can you earn you back up to 2 points.  There are key requirements, though. If your code does not following these rules, you will earn no points for your work.\n",
    "* You MUST include docstrings that explain the purpose of your code.\n",
    "* You MUST include at least 2 example tests in your docstrings for each function you write.\n",
    "* You MUST run your docstrings within the notebook to show me your code and docstrings work correctly.\n",
    "* You MUST submit your own individual work.  You may not collaborate with other students on these assignments.\n",
    "\n",
    "There will be 4 assignments like this between now and the end of the semester, each with 4 problems, each worth 2 points, for a total of 32 points.\n",
    "\n",
    "**If anything about the above rules is unclear, please message me on Canvas or via email**"
   ]
  },
  {
   "cell_type": "markdown",
   "metadata": {},
   "source": [
    "---"
   ]
  },
  {
   "cell_type": "markdown",
   "metadata": {},
   "source": [
    "## Earn-Back 1: Sunflower Health Plan Files\n",
    "\n",
    "Sunflower Health Plan is one of Centene's state-specific health plans. If you aren't familiar with Centene, they are one of the largest healthcare maangement organizations the country and are headquartered here in St. Louis. Many of your colleagues from previous graduating classes now work at Centene. \n",
    "\n",
    "Sunflower Health Plan has posted links to two files on this page: https://www.sunflowerhealthplan.com/json.html\n",
    "\n",
    "* https://www.sunflowerhealthplan.com/content/dam/centene/sunflower/json/KAPrintProviderDir_Prac.json\n",
    "* https://www.sunflowerhealthplan.com/content/dam/centene/sunflower/json/KAPrintProviderDir_Prov.json\n",
    "\n",
    "This entire problemset asks you to work with these files.\n",
    "\n",
    "Your first step is to write a python function called **get_files(type)** where **type** is a string that contains one of two values: *practitioner* or *provider*.  Your function should download the correct file from the webpage above based on the string value passed to the function. The function should return the objects created by loading that JSON data.\n",
    "\n",
    "**INPUT:** `'practitioneer'` or `'provider'`\n",
    "\n",
    "**OUTPUT:** Python object based on the data from the appropriate file.\n",
    "\n",
    "\n",
    "*Note that these files may take a minute for Python to download. They're big.*"
   ]
  },
  {
   "cell_type": "code",
   "execution_count": null,
   "metadata": {},
   "outputs": [],
   "source": [
    "from urllib.request import urlopen\n",
    "import json\n",
    "import csv\n",
    "\n",
    "def get_files(file):\n",
    "    '''This method loads the json data from the url passed to the method'''\n",
    "    response = urlopen(file)\n",
    "    data_json = json.loads(response.read())\n",
    "    return data_json\n",
    "\n",
    "string = input()\n",
    "data_dist = {}\n",
    "if string == \"practitioneer\":\n",
    "    data_dist = get_files('https://www.sunflowerhealthplan.com/content/dam/centene/sunflower/json/KAPrintProviderDir_Prac.json')\n",
    "elif string == \"provider\":\n",
    "    data_dist = get_files('https://www.sunflowerhealthplan.com/content/dam/centene/sunflower/json/KAPrintProviderDir_Prov.json')\n",
    "else:\n",
    "    print(\"Invalid String input!!\")"
   ]
  },
  {
   "cell_type": "code",
   "execution_count": null,
   "metadata": {},
   "outputs": [],
   "source": []
  },
  {
   "cell_type": "markdown",
   "metadata": {},
   "source": [
    "## Earn-Back 2: What is this Data?\n",
    "\n",
    "No coding for this part, so no docstrings or tests are required.\n",
    "\n",
    "Explain to in 2-3 sentences, what do you see in these files? If you can't make sense of it from a healthcare business perspective, just tell me what you see in techincal terms."
   ]
  },
  {
   "cell_type": "code",
   "execution_count": null,
   "metadata": {},
   "outputs": [],
   "source": [
    "The above json file contains practitioners basic information like practitioner id , name, gender and his address. This also provides details about his website and his office hours, speciality along with his preferences of patients and cultural training information."
   ]
  },
  {
   "cell_type": "code",
   "execution_count": null,
   "metadata": {},
   "outputs": [],
   "source": []
  },
  {
   "cell_type": "code",
   "execution_count": null,
   "metadata": {},
   "outputs": [],
   "source": []
  },
  {
   "cell_type": "markdown",
   "metadata": {},
   "source": [
    "## Earn-Back 3: How many are closed on each Day of the Week\n",
    "\n",
    "You'll see in the files a piece of information that tellsu us what the schedule is on every day of the week:\n",
    "\n",
    "```json\n",
    "'PROVIDER_ID': '387724',\n",
    " 'LOCATION_ID': '626140',\n",
    " 'NAME': 'Mercy Clinic Cardiology',\n",
    " 'PROVIDER TYPE': 'GROUP PRACTICE',\n",
    " 'NPI': '1215264817',\n",
    " 'SPECIALTY': 'Multi-Specialty',\n",
    " 'ADDRESS1': '3020 Saint Johns Boulevard',\n",
    " 'ADDRESS2': 'Suite A1',\n",
    " 'ADDRESS3': '',\n",
    " 'CITY': 'Joplin',\n",
    " 'STATE': 'MO',\n",
    " 'ZIP': '64804',\n",
    " 'COUNTY': 'Newton',\n",
    " 'LATITUDE': '37.061',\n",
    " 'LONGITUDE': '-94.536',\n",
    " 'PHONE': '(417) 627-8566-(855) 420-7900',\n",
    " 'AFTER HOUR PHONE': '',\n",
    " 'FAX': '',\n",
    " 'OFFICEHOURS_SU': 'Closed',\n",
    " 'OFFICEHOURS_MO': '8:00 AM - 5:00 PM',\n",
    " 'OFFICEHOURS_TU': '8:00 AM - 5:00 PM',\n",
    " 'OFFICEHOURS_WE': '8:00 AM - 5:00 PM',\n",
    " 'OFFICEHOURS_TH': '8:00 AM - 5:00 PM',\n",
    " 'OFFICEHOURS_FR': '8:00 AM - 5:00 PM',\n",
    " 'OFFICEHOURS_SA': 'Closed',\n",
    " 'HANDICAP ACCESS': 'N',\n",
    " 'WEBSITE': 'www.mercy.net',\n",
    " 'PRODUCT 1': 'GP',\n",
    "\n",
    "```\n",
    "\n",
    "Write a function called **closed_by_day(data)** that takes one parameter (the data that came out of the Provider or Practitioner download) and outputs a dictionary of how many practitioneres / providers are closed on each day:\n",
    "```json\n",
    "{\n",
    "    \"Sunday\": 1401,\n",
    "    \"Monday\": 2,\n",
    "    ...etc...\n",
    "```"
   ]
  },
  {
   "cell_type": "code",
   "execution_count": null,
   "metadata": {},
   "outputs": [],
   "source": [
    "\n",
    "def closed_by_day(data_dist):\n",
    "    '''This method will extract the days closed details of each 'practitioneer' or 'provider' \n",
    "    and return the output json with day and count of closed days''' \n",
    "    \n",
    "    days = ['OFFICEHOURS_SU','OFFICEHOURS_MO','OFFICEHOURS_TU','OFFICEHOURS_WE','OFFICEHOURS_TH','OFFICEHOURS_FR','OFFICEHOURS_SA']\n",
    "    days_map = {'OFFICEHOURS_SU':'Sunday','OFFICEHOURS_MO':'Moday','OFFICEHOURS_TU':'Tuesday','OFFICEHOURS_WE':'Wednesday','OFFICEHOURS_TH':'Thursday','OFFICEHOURS_FR':'Friday','OFFICEHOURS_SA':'Saturday'}\n",
    "    output_json = []\n",
    "\n",
    "    for i in days:\n",
    "        count = 0\n",
    "        for j in data_dist:\n",
    "            value = j[i]\n",
    "            if value == 'Closed':\n",
    "                count+=1\n",
    "        count_dist = {}\n",
    "        count_dist['Day'] = days_map[i]\n",
    "        count_dist['Count'] = count\n",
    "        output_json.append(count_dist)\n",
    "    return output_json"
   ]
  },
  {
   "cell_type": "code",
   "execution_count": null,
   "metadata": {},
   "outputs": [],
   "source": []
  },
  {
   "cell_type": "markdown",
   "metadata": {},
   "source": [
    "## Earn-Back 4: Output to a file\n",
    "\n",
    "Now, simply write a function named **to_csv(data, file)** that takes this summary view of information as a dictionary (the `data` parameter) and writes it out to a CSV file (the `file` parameter)."
   ]
  },
  {
   "cell_type": "code",
   "execution_count": null,
   "metadata": {},
   "outputs": [],
   "source": [
    "def to_csv(data):\n",
    "    '''This method will write the output json from closed_by_day to csv file''' \n",
    "    csv_columns = ['Day','Count']\n",
    "    with open('ounput.csv', 'w') as csvfile:\n",
    "        writer = csv.DictWriter(csvfile,fieldnames=csv_columns)\n",
    "        writer.writeheader()\n",
    "        for row in data:\n",
    "            writer.writerow(row)\n",
    "to_csv(closed_by_day(data_list))\n",
    "print(get_files.__doc__)\n",
    "print(closed_by_day.__doc__)\n",
    "print(to_csv.__doc__)"
   ]
  },
  {
   "cell_type": "code",
   "execution_count": null,
   "metadata": {},
   "outputs": [],
   "source": []
  },
  {
   "cell_type": "markdown",
   "metadata": {},
   "source": [
    "## Submit your work to github in your week 11 folder by 11/18 11:59 PM"
   ]
  },
  {
   "cell_type": "code",
   "execution_count": null,
   "metadata": {},
   "outputs": [],
   "source": []
  }
 ],
 "metadata": {
  "kernelspec": {
   "display_name": "Python 3",
   "language": "python",
   "name": "python3"
  },
  "language_info": {
   "codemirror_mode": {
    "name": "ipython",
    "version": 3
   },
   "file_extension": ".py",
   "mimetype": "text/x-python",
   "name": "python",
   "nbconvert_exporter": "python",
   "pygments_lexer": "ipython3",
   "version": "3.6.7"
  }
 },
 "nbformat": 4,
 "nbformat_minor": 4
}
